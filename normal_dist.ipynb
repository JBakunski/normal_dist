{
 "cells": [
  {
   "cell_type": "code",
   "execution_count": 2,
   "id": "4e38efcc-5c69-4a38-b883-04a343c7c9fe",
   "metadata": {},
   "outputs": [],
   "source": [
    "import numpy as np\n",
    "import pandas as pd\n",
    "import seaborn as sns\n",
    "import matplotlib.pyplot as plt"
   ]
  },
  {
   "cell_type": "markdown",
   "id": "5474e503-51e5-46de-869e-a8068a07cf3a",
   "metadata": {},
   "source": [
    "### Tworzenie rozkładu normalnego o średniej 3 i odchyleniu standardowym 1 dla 100 elementów"
   ]
  },
  {
   "cell_type": "code",
   "execution_count": 6,
   "id": "1afc8551-3c7d-4e17-96f3-d0bdf47a98ca",
   "metadata": {},
   "outputs": [
    {
     "data": {
      "text/html": [
       "<div>\n",
       "<style scoped>\n",
       "    .dataframe tbody tr th:only-of-type {\n",
       "        vertical-align: middle;\n",
       "    }\n",
       "\n",
       "    .dataframe tbody tr th {\n",
       "        vertical-align: top;\n",
       "    }\n",
       "\n",
       "    .dataframe thead th {\n",
       "        text-align: right;\n",
       "    }\n",
       "</style>\n",
       "<table border=\"1\" class=\"dataframe\">\n",
       "  <thead>\n",
       "    <tr style=\"text-align: right;\">\n",
       "      <th></th>\n",
       "      <th>value</th>\n",
       "    </tr>\n",
       "  </thead>\n",
       "  <tbody>\n",
       "    <tr>\n",
       "      <th>0</th>\n",
       "      <td>2.340332</td>\n",
       "    </tr>\n",
       "    <tr>\n",
       "      <th>1</th>\n",
       "      <td>3.725732</td>\n",
       "    </tr>\n",
       "    <tr>\n",
       "      <th>2</th>\n",
       "      <td>1.935504</td>\n",
       "    </tr>\n",
       "    <tr>\n",
       "      <th>3</th>\n",
       "      <td>3.313458</td>\n",
       "    </tr>\n",
       "    <tr>\n",
       "      <th>4</th>\n",
       "      <td>0.505295</td>\n",
       "    </tr>\n",
       "  </tbody>\n",
       "</table>\n",
       "</div>"
      ],
      "text/plain": [
       "      value\n",
       "0  2.340332\n",
       "1  3.725732\n",
       "2  1.935504\n",
       "3  3.313458\n",
       "4  0.505295"
      ]
     },
     "execution_count": 6,
     "metadata": {},
     "output_type": "execute_result"
    }
   ],
   "source": [
    "normalDist_100 = pd.DataFrame(np.random.normal(3, 1, 100))\n",
    "normalDist_100.columns = ['value']\n",
    "normalDist_100.head()"
   ]
  },
  {
   "cell_type": "markdown",
   "id": "650f2a6e-aa1d-42b0-831f-c06c3ebe7e5e",
   "metadata": {},
   "source": [
    "### Tworzenie rozkładu normalnego o średniej 3 i odchyleniu standardowym 1 dla 10 000 elementów"
   ]
  },
  {
   "cell_type": "code",
   "execution_count": 5,
   "id": "fd9f47e9-fa83-41d1-baa4-e15526bbf570",
   "metadata": {},
   "outputs": [
    {
     "data": {
      "text/html": [
       "<div>\n",
       "<style scoped>\n",
       "    .dataframe tbody tr th:only-of-type {\n",
       "        vertical-align: middle;\n",
       "    }\n",
       "\n",
       "    .dataframe tbody tr th {\n",
       "        vertical-align: top;\n",
       "    }\n",
       "\n",
       "    .dataframe thead th {\n",
       "        text-align: right;\n",
       "    }\n",
       "</style>\n",
       "<table border=\"1\" class=\"dataframe\">\n",
       "  <thead>\n",
       "    <tr style=\"text-align: right;\">\n",
       "      <th></th>\n",
       "      <th>value</th>\n",
       "    </tr>\n",
       "  </thead>\n",
       "  <tbody>\n",
       "    <tr>\n",
       "      <th>0</th>\n",
       "      <td>3.287639</td>\n",
       "    </tr>\n",
       "    <tr>\n",
       "      <th>1</th>\n",
       "      <td>3.206282</td>\n",
       "    </tr>\n",
       "    <tr>\n",
       "      <th>2</th>\n",
       "      <td>2.855685</td>\n",
       "    </tr>\n",
       "    <tr>\n",
       "      <th>3</th>\n",
       "      <td>1.646821</td>\n",
       "    </tr>\n",
       "    <tr>\n",
       "      <th>4</th>\n",
       "      <td>2.207573</td>\n",
       "    </tr>\n",
       "  </tbody>\n",
       "</table>\n",
       "</div>"
      ],
      "text/plain": [
       "      value\n",
       "0  3.287639\n",
       "1  3.206282\n",
       "2  2.855685\n",
       "3  1.646821\n",
       "4  2.207573"
      ]
     },
     "execution_count": 5,
     "metadata": {},
     "output_type": "execute_result"
    }
   ],
   "source": [
    "normalDist_10000 = pd.DataFrame(np.random.normal(3, 1, 10000))\n",
    "normalDist_10000.columns = ['value']\n",
    "normalDist_10000.head()"
   ]
  },
  {
   "cell_type": "markdown",
   "id": "9beed445-cc2a-46fd-8712-65378662fab5",
   "metadata": {},
   "source": [
    "### Wykres pudełkowy dla rozkładu 100 elementowego"
   ]
  },
  {
   "cell_type": "code",
   "execution_count": 9,
   "id": "95aee400-11ab-4618-919d-375c30edc7dc",
   "metadata": {},
   "outputs": [
    {
     "data": {
      "image/png": "[encoded data removed]",
      "text/plain": [
       "<Figure size 640x480 with 1 Axes>"
      ]
     },
     "metadata": {},
     "output_type": "display_data"
    }
   ],
   "source": [
    "plt.boxplot(normalDist_100['value'])\n",
    "plt.show()"
   ]
  },
  {
   "cell_type": "markdown",
   "id": "499bd0bc-ad96-471c-9d52-6971a8b021c3",
   "metadata": {},
   "source": [
    "### Wykres pudełkowy dla rozkładu 10 000 elementowego"
   ]
  },
  {
   "cell_type": "code",
   "execution_count": 10,
   "id": "dc11d54f-e393-4145-8256-233154c4f6a5",
   "metadata": {},
   "outputs": [
    {
     "data": {
      "image/png": "[encoded data removed]",
      "text/plain": [
       "<Figure size 640x480 with 1 Axes>"
      ]
     },
     "metadata": {},
     "output_type": "display_data"
    }
   ],
   "source": [
    "plt.boxplot(normalDist_10000['value'])\n",
    "plt.show()"
   ]
  },
  {
   "cell_type": "code",
   "execution_count": null,
   "id": "1f218737-26eb-4347-bc0a-c8fa1f9c38ce",
   "metadata": {},
   "outputs": [],
   "source": []
  }
 ],
 "metadata": {
  "kernelspec": {
   "display_name": "NormalDist",
   "language": "python",
   "name": "normalvar"
  },
  "language_info": {
   "codemirror_mode": {
    "name": "ipython",
    "version": 3
   },
   "file_extension": ".py",
   "mimetype": "text/x-python",
   "name": "python",
   "nbconvert_exporter": "python",
   "pygments_lexer": "ipython3",
   "version": "3.9.7"
  }
 },
 "nbformat": 4,
 "nbformat_minor": 5
}
