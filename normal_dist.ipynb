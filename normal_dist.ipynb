{
 "cells": [
  {
   "cell_type": "code",
   "execution_count": 57,
   "id": "4e38efcc-5c69-4a38-b883-04a343c7c9fe",
   "metadata": {},
   "outputs": [],
   "source": [
    "import numpy as np\n",
    "import pandas as pd\n",
    "import seaborn as sns\n",
    "import matplotlib.pyplot as plt\n",
    "import statistics\n",
    "from statistics import mode"
   ]
  },
  {
   "cell_type": "markdown",
   "id": "5474e503-51e5-46de-869e-a8068a07cf3a",
   "metadata": {},
   "source": [
    "### Tworzenie rozkładu normalnego o średniej 3 i odchyleniu standardowym 1 dla 100 elementów"
   ]
  },
  {
   "cell_type": "code",
   "execution_count": 58,
   "id": "1afc8551-3c7d-4e17-96f3-d0bdf47a98ca",
   "metadata": {},
   "outputs": [
    {
     "data": {
      "text/html": [
       "<div>\n",
       "<style scoped>\n",
       "    .dataframe tbody tr th:only-of-type {\n",
       "        vertical-align: middle;\n",
       "    }\n",
       "\n",
       "    .dataframe tbody tr th {\n",
       "        vertical-align: top;\n",
       "    }\n",
       "\n",
       "    .dataframe thead th {\n",
       "        text-align: right;\n",
       "    }\n",
       "</style>\n",
       "<table border=\"1\" class=\"dataframe\">\n",
       "  <thead>\n",
       "    <tr style=\"text-align: right;\">\n",
       "      <th></th>\n",
       "      <th>value</th>\n",
       "    </tr>\n",
       "  </thead>\n",
       "  <tbody>\n",
       "    <tr>\n",
       "      <th>0</th>\n",
       "      <td>2.264668</td>\n",
       "    </tr>\n",
       "    <tr>\n",
       "      <th>1</th>\n",
       "      <td>2.506619</td>\n",
       "    </tr>\n",
       "    <tr>\n",
       "      <th>2</th>\n",
       "      <td>2.368760</td>\n",
       "    </tr>\n",
       "    <tr>\n",
       "      <th>3</th>\n",
       "      <td>4.303787</td>\n",
       "    </tr>\n",
       "    <tr>\n",
       "      <th>4</th>\n",
       "      <td>2.514828</td>\n",
       "    </tr>\n",
       "  </tbody>\n",
       "</table>\n",
       "</div>"
      ],
      "text/plain": [
       "      value\n",
       "0  2.264668\n",
       "1  2.506619\n",
       "2  2.368760\n",
       "3  4.303787\n",
       "4  2.514828"
      ]
     },
     "execution_count": 58,
     "metadata": {},
     "output_type": "execute_result"
    }
   ],
   "source": [
    "normalDist_100 = pd.DataFrame(np.random.normal(3, 1, 100))\n",
    "normalDist_100.columns = ['value']\n",
    "normalDist_100.head()"
   ]
  },
  {
   "cell_type": "markdown",
   "id": "650f2a6e-aa1d-42b0-831f-c06c3ebe7e5e",
   "metadata": {},
   "source": [
    "### Tworzenie rozkładu normalnego o średniej 3 i odchyleniu standardowym 1 dla 10 000 elementów"
   ]
  },
  {
   "cell_type": "code",
   "execution_count": 59,
   "id": "fd9f47e9-fa83-41d1-baa4-e15526bbf570",
   "metadata": {},
   "outputs": [
    {
     "data": {
      "text/html": [
       "<div>\n",
       "<style scoped>\n",
       "    .dataframe tbody tr th:only-of-type {\n",
       "        vertical-align: middle;\n",
       "    }\n",
       "\n",
       "    .dataframe tbody tr th {\n",
       "        vertical-align: top;\n",
       "    }\n",
       "\n",
       "    .dataframe thead th {\n",
       "        text-align: right;\n",
       "    }\n",
       "</style>\n",
       "<table border=\"1\" class=\"dataframe\">\n",
       "  <thead>\n",
       "    <tr style=\"text-align: right;\">\n",
       "      <th></th>\n",
       "      <th>value</th>\n",
       "    </tr>\n",
       "  </thead>\n",
       "  <tbody>\n",
       "    <tr>\n",
       "      <th>0</th>\n",
       "      <td>2.852443</td>\n",
       "    </tr>\n",
       "    <tr>\n",
       "      <th>1</th>\n",
       "      <td>2.975817</td>\n",
       "    </tr>\n",
       "    <tr>\n",
       "      <th>2</th>\n",
       "      <td>1.172992</td>\n",
       "    </tr>\n",
       "    <tr>\n",
       "      <th>3</th>\n",
       "      <td>3.222118</td>\n",
       "    </tr>\n",
       "    <tr>\n",
       "      <th>4</th>\n",
       "      <td>2.582147</td>\n",
       "    </tr>\n",
       "  </tbody>\n",
       "</table>\n",
       "</div>"
      ],
      "text/plain": [
       "      value\n",
       "0  2.852443\n",
       "1  2.975817\n",
       "2  1.172992\n",
       "3  3.222118\n",
       "4  2.582147"
      ]
     },
     "execution_count": 59,
     "metadata": {},
     "output_type": "execute_result"
    }
   ],
   "source": [
    "normalDist_10000 = pd.DataFrame(np.random.normal(3, 1, 10000))\n",
    "normalDist_10000.columns = ['value']\n",
    "normalDist_10000.head()"
   ]
  },
  {
   "cell_type": "markdown",
   "id": "9beed445-cc2a-46fd-8712-65378662fab5",
   "metadata": {},
   "source": [
    "### Wykres pudełkowy dla rozkładu 100 elementowego"
   ]
  },
  {
   "cell_type": "code",
   "execution_count": 60,
   "id": "95aee400-11ab-4618-919d-375c30edc7dc",
   "metadata": {},
   "outputs": [
    {
     "data": {
      "image/png": "[encoded data removed]",
      "text/plain": [
       "<Figure size 640x480 with 1 Axes>"
      ]
     },
     "metadata": {},
     "output_type": "display_data"
    }
   ],
   "source": [
    "plt.boxplot(normalDist_100['value'])\n",
    "plt.show()"
   ]
  },
  {
   "cell_type": "markdown",
   "id": "499bd0bc-ad96-471c-9d52-6971a8b021c3",
   "metadata": {},
   "source": [
    "### Wykres pudełkowy dla rozkładu 10 000 elementowego"
   ]
  },
  {
   "cell_type": "code",
   "execution_count": 61,
   "id": "dc11d54f-e393-4145-8256-233154c4f6a5",
   "metadata": {},
   "outputs": [
    {
     "data": {
      "image/png": "[encoded data removed]",
      "text/plain": [
       "<Figure size 640x480 with 1 Axes>"
      ]
     },
     "metadata": {},
     "output_type": "display_data"
    }
   ],
   "source": [
    "plt.boxplot(normalDist_10000['value'])\n",
    "plt.show()"
   ]
  },
  {
   "cell_type": "markdown",
   "id": "314a62a9-82dc-457b-9cbf-f3e98964df7d",
   "metadata": {},
   "source": [
    "### Tworzenie statystyk dla rozkładu 100 i 10 000 elementowego"
   ]
  },
  {
   "cell_type": "code",
   "execution_count": 66,
   "id": "1f218737-26eb-4347-bc0a-c8fa1f9c38ce",
   "metadata": {},
   "outputs": [],
   "source": [
    "stats_100 = normalDist_100[['value']].describe(percentiles=[.25, .5, .75, 1])\n",
    "stats_100.loc['IQR'] = stats_100.loc['75%'] - stats_100.loc['25%']\n",
    "stats_100 = pd.concat([stats_100, normalDist_100[['value']].agg(['median'])], axis=0)\n",
    "stats_100.loc['mode'] = mode(normalDist_100['value'])\n",
    "\n",
    "stats_10000 = normalDist_10000[['value']].describe(percentiles=[.25, .5, .75, 1])\n",
    "stats_10000.loc['IQR'] = stats_10000.loc['75%'] - stats_10000.loc['25%']\n",
    "stats_10000 = pd.concat([stats_10000, normalDist_10000[['value']].agg(['median'])], axis=0)\n",
    "stats_10000.loc['mode'] = mode(normalDist_10000['value'])"
   ]
  },
  {
   "cell_type": "code",
   "execution_count": 67,
   "id": "8dcc9899-d49b-4385-a33d-8353f70d2496",
   "metadata": {},
   "outputs": [
    {
     "data": {
      "text/html": [
       "<div>\n",
       "<style scoped>\n",
       "    .dataframe tbody tr th:only-of-type {\n",
       "        vertical-align: middle;\n",
       "    }\n",
       "\n",
       "    .dataframe tbody tr th {\n",
       "        vertical-align: top;\n",
       "    }\n",
       "\n",
       "    .dataframe thead th {\n",
       "        text-align: right;\n",
       "    }\n",
       "</style>\n",
       "<table border=\"1\" class=\"dataframe\">\n",
       "  <thead>\n",
       "    <tr style=\"text-align: right;\">\n",
       "      <th></th>\n",
       "      <th>value</th>\n",
       "    </tr>\n",
       "  </thead>\n",
       "  <tbody>\n",
       "    <tr>\n",
       "      <th>count</th>\n",
       "      <td>100.000000</td>\n",
       "    </tr>\n",
       "    <tr>\n",
       "      <th>mean</th>\n",
       "      <td>3.012101</td>\n",
       "    </tr>\n",
       "    <tr>\n",
       "      <th>std</th>\n",
       "      <td>1.097722</td>\n",
       "    </tr>\n",
       "    <tr>\n",
       "      <th>min</th>\n",
       "      <td>0.642324</td>\n",
       "    </tr>\n",
       "    <tr>\n",
       "      <th>25%</th>\n",
       "      <td>2.138814</td>\n",
       "    </tr>\n",
       "    <tr>\n",
       "      <th>50%</th>\n",
       "      <td>3.067681</td>\n",
       "    </tr>\n",
       "    <tr>\n",
       "      <th>75%</th>\n",
       "      <td>3.797228</td>\n",
       "    </tr>\n",
       "    <tr>\n",
       "      <th>100%</th>\n",
       "      <td>5.901308</td>\n",
       "    </tr>\n",
       "    <tr>\n",
       "      <th>max</th>\n",
       "      <td>5.901308</td>\n",
       "    </tr>\n",
       "    <tr>\n",
       "      <th>IQR</th>\n",
       "      <td>1.658414</td>\n",
       "    </tr>\n",
       "    <tr>\n",
       "      <th>median</th>\n",
       "      <td>3.067681</td>\n",
       "    </tr>\n",
       "    <tr>\n",
       "      <th>mode</th>\n",
       "      <td>2.264668</td>\n",
       "    </tr>\n",
       "  </tbody>\n",
       "</table>\n",
       "</div>"
      ],
      "text/plain": [
       "             value\n",
       "count   100.000000\n",
       "mean      3.012101\n",
       "std       1.097722\n",
       "min       0.642324\n",
       "25%       2.138814\n",
       "50%       3.067681\n",
       "75%       3.797228\n",
       "100%      5.901308\n",
       "max       5.901308\n",
       "IQR       1.658414\n",
       "median    3.067681\n",
       "mode      2.264668"
      ]
     },
     "execution_count": 67,
     "metadata": {},
     "output_type": "execute_result"
    }
   ],
   "source": [
    "stats_100"
   ]
  },
  {
   "cell_type": "code",
   "execution_count": 65,
   "id": "e18a9ad2-4213-4948-9221-0629bf47be2c",
   "metadata": {},
   "outputs": [
    {
     "data": {
      "text/html": [
       "<div>\n",
       "<style scoped>\n",
       "    .dataframe tbody tr th:only-of-type {\n",
       "        vertical-align: middle;\n",
       "    }\n",
       "\n",
       "    .dataframe tbody tr th {\n",
       "        vertical-align: top;\n",
       "    }\n",
       "\n",
       "    .dataframe thead th {\n",
       "        text-align: right;\n",
       "    }\n",
       "</style>\n",
       "<table border=\"1\" class=\"dataframe\">\n",
       "  <thead>\n",
       "    <tr style=\"text-align: right;\">\n",
       "      <th></th>\n",
       "      <th>value</th>\n",
       "    </tr>\n",
       "  </thead>\n",
       "  <tbody>\n",
       "    <tr>\n",
       "      <th>count</th>\n",
       "      <td>10000.000000</td>\n",
       "    </tr>\n",
       "    <tr>\n",
       "      <th>mean</th>\n",
       "      <td>2.990426</td>\n",
       "    </tr>\n",
       "    <tr>\n",
       "      <th>std</th>\n",
       "      <td>1.011132</td>\n",
       "    </tr>\n",
       "    <tr>\n",
       "      <th>min</th>\n",
       "      <td>-1.267995</td>\n",
       "    </tr>\n",
       "    <tr>\n",
       "      <th>25%</th>\n",
       "      <td>2.315364</td>\n",
       "    </tr>\n",
       "    <tr>\n",
       "      <th>50%</th>\n",
       "      <td>2.980665</td>\n",
       "    </tr>\n",
       "    <tr>\n",
       "      <th>75%</th>\n",
       "      <td>3.663040</td>\n",
       "    </tr>\n",
       "    <tr>\n",
       "      <th>100%</th>\n",
       "      <td>7.388241</td>\n",
       "    </tr>\n",
       "    <tr>\n",
       "      <th>max</th>\n",
       "      <td>7.388241</td>\n",
       "    </tr>\n",
       "    <tr>\n",
       "      <th>IQR</th>\n",
       "      <td>1.347676</td>\n",
       "    </tr>\n",
       "    <tr>\n",
       "      <th>median</th>\n",
       "      <td>2.980665</td>\n",
       "    </tr>\n",
       "    <tr>\n",
       "      <th>mode</th>\n",
       "      <td>2.852443</td>\n",
       "    </tr>\n",
       "  </tbody>\n",
       "</table>\n",
       "</div>"
      ],
      "text/plain": [
       "               value\n",
       "count   10000.000000\n",
       "mean        2.990426\n",
       "std         1.011132\n",
       "min        -1.267995\n",
       "25%         2.315364\n",
       "50%         2.980665\n",
       "75%         3.663040\n",
       "100%        7.388241\n",
       "max         7.388241\n",
       "IQR         1.347676\n",
       "median      2.980665\n",
       "mode        2.852443"
      ]
     },
     "execution_count": 65,
     "metadata": {},
     "output_type": "execute_result"
    }
   ],
   "source": [
    "stats_10000"
   ]
  },
  {
   "cell_type": "code",
   "execution_count": null,
   "id": "18fe50a1-113d-4373-a9a4-a1c8dd8404f2",
   "metadata": {},
   "outputs": [],
   "source": []
  },
  {
   "cell_type": "code",
   "execution_count": null,
   "id": "b008e60a-e83d-4fce-91df-32c62303606b",
   "metadata": {},
   "outputs": [],
   "source": []
  }
 ],
 "metadata": {
  "kernelspec": {
   "display_name": "NormalDist",
   "language": "python",
   "name": "normalvar"
  },
  "language_info": {
   "codemirror_mode": {
    "name": "ipython",
    "version": 3
   },
   "file_extension": ".py",
   "mimetype": "text/x-python",
   "name": "python",
   "nbconvert_exporter": "python",
   "pygments_lexer": "ipython3",
   "version": "3.9.7"
  }
 },
 "nbformat": 4,
 "nbformat_minor": 5
}
